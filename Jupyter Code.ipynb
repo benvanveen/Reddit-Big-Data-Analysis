{
 "cells": [
  {
   "cell_type": "markdown",
   "id": "c104d26e-33cd-4eac-8481-bb1b361affd7",
   "metadata": {},
   "source": [
    "## Section 3.2 - Part 1 - Social Analytics"
   ]
  },
  {
   "cell_type": "markdown",
   "id": "f96b7efa-7412-43e3-8ac2-dacd89cd1649",
   "metadata": {},
   "source": [
    "### What were the top 50 most popular subreddits in terms of the number of active users?"
   ]
  },
  {
   "cell_type": "code",
   "execution_count": 95,
   "id": "a8069e98-32ae-4b5f-9cc7-ccef95bf85a6",
   "metadata": {},
   "outputs": [],
   "source": [
    "import pandas as pd\n",
    "import matplotlib.pyplot as plt\n",
    "import math\n",
    "import numpy as np\n",
    "import string"
   ]
  },
  {
   "cell_type": "code",
   "execution_count": 96,
   "id": "094d3edd-c9d6-4850-a73d-bec79752a8ae",
   "metadata": {},
   "outputs": [
    {
     "data": {
      "application/vnd.jupyter.widget-view+json": {
       "model_id": "2d630838c48348cfbf01a75aded2edbf",
       "version_major": 2,
       "version_minor": 0
      },
      "text/plain": [
       "Query is running:   0%|          |"
      ]
     },
     "metadata": {},
     "output_type": "display_data"
    },
    {
     "data": {
      "application/vnd.jupyter.widget-view+json": {
       "model_id": "a51106af785b468f926e811e4063f8a6",
       "version_major": 2,
       "version_minor": 0
      },
      "text/plain": [
       "Downloading:   0%|          |"
      ]
     },
     "metadata": {},
     "output_type": "display_data"
    }
   ],
   "source": [
    "%%bigquery popular_subreddits_top50\n",
    "\n",
    "SELECT subreddit, COUNT(DISTINCT author) AS total_active_users \n",
    "FROM `fh-bigquery.reddit_comments.2014` \n",
    "GROUP BY subreddit \n",
    "ORDER BY total_active_users \n",
    "DESC limit 50"
   ]
  },
  {
   "cell_type": "code",
   "execution_count": 97,
   "id": "ea20e223-d6f6-466a-9a3c-7131c566825c",
   "metadata": {},
   "outputs": [
    {
     "name": "stdout",
     "output_type": "stream",
     "text": [
      "Stored 'popular_subreddits_top50' (DataFrame)\n"
     ]
    }
   ],
   "source": [
    "%store popular_subreddits_top50"
   ]
  },
  {
   "cell_type": "code",
   "execution_count": 98,
   "id": "f314709e-b6f6-4392-957f-72cfe3c0f264",
   "metadata": {},
   "outputs": [],
   "source": [
    "%store -r popular_subreddits_top50"
   ]
  },
  {
   "cell_type": "code",
   "execution_count": 99,
   "id": "8fc16089-2bfc-4b18-b9ec-13d8cf0f4603",
   "metadata": {},
   "outputs": [
    {
     "data": {
      "text/html": [
       "<div>\n",
       "<style scoped>\n",
       "    .dataframe tbody tr th:only-of-type {\n",
       "        vertical-align: middle;\n",
       "    }\n",
       "\n",
       "    .dataframe tbody tr th {\n",
       "        vertical-align: top;\n",
       "    }\n",
       "\n",
       "    .dataframe thead th {\n",
       "        text-align: right;\n",
       "    }\n",
       "</style>\n",
       "<table border=\"1\" class=\"dataframe\">\n",
       "  <thead>\n",
       "    <tr style=\"text-align: right;\">\n",
       "      <th></th>\n",
       "      <th>subreddit</th>\n",
       "      <th>total_active_users</th>\n",
       "    </tr>\n",
       "  </thead>\n",
       "  <tbody>\n",
       "    <tr>\n",
       "      <th>0</th>\n",
       "      <td>AskReddit</td>\n",
       "      <td>1942569</td>\n",
       "    </tr>\n",
       "    <tr>\n",
       "      <th>1</th>\n",
       "      <td>funny</td>\n",
       "      <td>1128979</td>\n",
       "    </tr>\n",
       "    <tr>\n",
       "      <th>2</th>\n",
       "      <td>pics</td>\n",
       "      <td>1016309</td>\n",
       "    </tr>\n",
       "    <tr>\n",
       "      <th>3</th>\n",
       "      <td>AdviceAnimals</td>\n",
       "      <td>725298</td>\n",
       "    </tr>\n",
       "    <tr>\n",
       "      <th>4</th>\n",
       "      <td>videos</td>\n",
       "      <td>694278</td>\n",
       "    </tr>\n",
       "  </tbody>\n",
       "</table>\n",
       "</div>"
      ],
      "text/plain": [
       "       subreddit  total_active_users\n",
       "0      AskReddit             1942569\n",
       "1          funny             1128979\n",
       "2           pics             1016309\n",
       "3  AdviceAnimals              725298\n",
       "4         videos              694278"
      ]
     },
     "execution_count": 99,
     "metadata": {},
     "output_type": "execute_result"
    }
   ],
   "source": [
    "popular_subreddits_top50.head()"
   ]
  },
  {
   "cell_type": "markdown",
   "id": "421fad64-377c-46d4-bd36-56cf4d1bf7e3",
   "metadata": {},
   "source": [
    "popular_subreddits is a dataframe containing the 50 most popular subreddits along with their number of user comments which we are using to define popularity"
   ]
  },
  {
   "cell_type": "markdown",
   "id": "9182865f-ca40-47af-ae58-3ce421f0f9fd",
   "metadata": {},
   "source": [
    "###  What does the Probability Density Function (PDF) of the number of active users per subreddit look like for all subreddits?"
   ]
  },
  {
   "cell_type": "code",
   "execution_count": 100,
   "id": "16381008-1970-4f6a-861a-9a929581ef3b",
   "metadata": {},
   "outputs": [
    {
     "data": {
      "application/vnd.jupyter.widget-view+json": {
       "model_id": "46ca66468b514013b28cfbd9277e07f2",
       "version_major": 2,
       "version_minor": 0
      },
      "text/plain": [
       "Query is running:   0%|          |"
      ]
     },
     "metadata": {},
     "output_type": "display_data"
    },
    {
     "data": {
      "application/vnd.jupyter.widget-view+json": {
       "model_id": "0587e5a40f9f429b86f01aa822c6f1d6",
       "version_major": 2,
       "version_minor": 0
      },
      "text/plain": [
       "Downloading:   0%|          |"
      ]
     },
     "metadata": {},
     "output_type": "display_data"
    }
   ],
   "source": [
    "%%bigquery popular_subreddits\n",
    "\n",
    "SELECT subreddit, COUNT(DISTINCT author) AS total_active_users \n",
    "FROM `fh-bigquery.reddit_comments.2014` \n",
    "GROUP BY subreddit \n",
    "ORDER BY total_active_users "
   ]
  },
  {
   "cell_type": "code",
   "execution_count": 101,
   "id": "25903a7f-5323-4205-88c9-8aeb74d4cd41",
   "metadata": {},
   "outputs": [
    {
     "name": "stdout",
     "output_type": "stream",
     "text": [
      "Stored 'popular_subreddits' (DataFrame)\n"
     ]
    }
   ],
   "source": [
    "%store popular_subreddits"
   ]
  },
  {
   "cell_type": "code",
   "execution_count": 102,
   "id": "faeaa05a-fdcb-41f9-8ed3-8adb112bfffa",
   "metadata": {},
   "outputs": [],
   "source": [
    "%store -r popular_subreddits"
   ]
  },
  {
   "cell_type": "code",
   "execution_count": 103,
   "id": "f397cff7-3acf-4f4b-804d-ef3102533d99",
   "metadata": {},
   "outputs": [
    {
     "data": {
      "image/png": "[encoded data removed]",
      "text/plain": [
       "<Figure size 640x480 with 1 Axes>"
      ]
     },
     "metadata": {},
     "output_type": "display_data"
    }
   ],
   "source": [
    "plt.hist(x=popular_subreddits['total_active_users'], density = True, bins = 50)\n",
    "\n",
    "plt.title(\"Probability Density of the Number of Active Users per Subreddit\")\n",
    "plt.xlabel(\"Number of Active Users\")\n",
    "plt.ylabel(\"Probability Density\")\n",
    "plt.yscale(\"log\")\n",
    "plt.grid()"
   ]
  },
  {
   "cell_type": "markdown",
   "id": "d58ff56a-be48-4f32-b9aa-ce062ae34c21",
   "metadata": {},
   "source": [
    "here is the Probability Density of the number of active users per subreddit, where it is quite obvious that the vast majority of subreddits have a much smaller player count than the more popular subreddits"
   ]
  },
  {
   "cell_type": "markdown",
   "id": "245604f6-f65d-462b-80f9-f498ecd1e6e7",
   "metadata": {
    "tags": []
   },
   "source": [
    "###  What is the proportion between the number of users in the ith popular subreddit compared to the (i + 1)th for i ∈ [1...100]? Comment on how fast the popularity drops and how this ratio/proportion changes with i."
   ]
  },
  {
   "cell_type": "code",
   "execution_count": 104,
   "id": "d6d2d1f2-d086-4d40-9ee5-6bf275410035",
   "metadata": {
    "tags": []
   },
   "outputs": [
    {
     "data": {
      "application/vnd.jupyter.widget-view+json": {
       "model_id": "c9261b2105384bb1a95ad2f812b34f96",
       "version_major": 2,
       "version_minor": 0
      },
      "text/plain": [
       "Query is running:   0%|          |"
      ]
     },
     "metadata": {},
     "output_type": "display_data"
    },
    {
     "data": {
      "application/vnd.jupyter.widget-view+json": {
       "model_id": "aaca0ff848744ed885e9dd66e2ce4f05",
       "version_major": 2,
       "version_minor": 0
      },
      "text/plain": [
       "Downloading:   0%|          |"
      ]
     },
     "metadata": {},
     "output_type": "display_data"
    }
   ],
   "source": [
    "%%bigquery popular_subreddits_top100\n",
    "\n",
    "SELECT subreddit, COUNT(DISTINCT author) AS total_active_users \n",
    "FROM `fh-bigquery.reddit_comments.2014` \n",
    "GROUP BY subreddit \n",
    "ORDER BY total_active_users\n",
    "DESC limit 100"
   ]
  },
  {
   "cell_type": "code",
   "execution_count": 105,
   "id": "58469996-1f33-4a0a-afae-68232a690704",
   "metadata": {},
   "outputs": [
    {
     "name": "stdout",
     "output_type": "stream",
     "text": [
      "Stored 'popular_subreddits_top100' (DataFrame)\n"
     ]
    }
   ],
   "source": [
    "%store popular_subreddits_top100"
   ]
  },
  {
   "cell_type": "code",
   "execution_count": 106,
   "id": "e214ac29-2007-4501-bbf4-78af3005de62",
   "metadata": {},
   "outputs": [],
   "source": [
    "%store -r popular_subreddits_top100"
   ]
  },
  {
   "cell_type": "code",
   "execution_count": 107,
   "id": "b3335280-61ed-4a01-9ddc-3177c37d528a",
   "metadata": {},
   "outputs": [
    {
     "data": {
      "image/png": "[encoded data removed]",
      "text/plain": [
       "<Figure size 640x480 with 1 Axes>"
      ]
     },
     "metadata": {},
     "output_type": "display_data"
    }
   ],
   "source": [
    "plt.scatter(x=popular_subreddits_top100['subreddit'], y=popular_subreddits_top100['total_active_users'])\n",
    "\n",
    "numerical_range = range(0, len(popular_subreddits_top100['subreddit']), 10)\n",
    "plt.xticks(numerical_range, numerical_range)\n",
    "plt.title(\"Probability Density of the Number of Active Users per Subreddit\")\n",
    "plt.xlabel(\"ith Most Popular Subreddit\")\n",
    "plt.ylabel(\"Total Active Users\")\n",
    "plt.grid()"
   ]
  },
  {
   "cell_type": "code",
   "execution_count": 108,
   "id": "3e9ed949-4c64-4d8e-a3c8-2933898d042a",
   "metadata": {},
   "outputs": [],
   "source": [
    "UserDifference = []\n",
    "SubredditUsers = popular_subreddits_top100['total_active_users']\n",
    "\n",
    "for i in range(99):\n",
    "    UserDifference.append(SubredditUsers[i]/SubredditUsers[i+1])"
   ]
  },
  {
   "cell_type": "code",
   "execution_count": 109,
   "id": "e57341d9-c825-4f73-bca3-98502be18893",
   "metadata": {},
   "outputs": [
    {
     "data": {
      "image/png": "[encoded data removed]",
      "text/plain": [
       "<Figure size 640x480 with 1 Axes>"
      ]
     },
     "metadata": {},
     "output_type": "display_data"
    }
   ],
   "source": [
    "plt.scatter(x=range(99), y=UserDifference)\n",
    "\n",
    "numerical_range = range(0, 99, 10)\n",
    "plt.xticks(numerical_range, numerical_range)\n",
    "plt.title(\"Proportion of the number of users in the ith subreddit to the i+1th subreddit\")\n",
    "plt.xlabel(\"ith Most Popular Subreddit\")\n",
    "plt.ylabel(\"Proportion\")\n",
    "plt.grid()"
   ]
  },
  {
   "cell_type": "markdown",
   "id": "cf4749dd-b1b9-44f8-9063-1f72921f685e",
   "metadata": {},
   "source": [
    "we can tell from the \"Probability Density of the Number of Active Users per Subreddit\" plot that there is a significant decrease in popularity from the ith subreddit to the i+1th subreddit, but the second plot \"Proportion of the number of users in the ith subreddit to the i+1th subreddit\" gives us a greater insight into the proportion of the decrease between the subreddits, as we can tell from the second polot that the proportion is not linear, decreasiing relative to a(i)^(-b) with positive contants a and b."
   ]
  },
  {
   "cell_type": "markdown",
   "id": "f3b4cef7-a419-457a-9bf1-792df935bc12",
   "metadata": {},
   "source": [
    "## Section 3.3 - Part 2 - Behavioural Analytics"
   ]
  },
  {
   "cell_type": "markdown",
   "id": "38413878-bb6c-4b61-a5ac-c560242d8a8c",
   "metadata": {},
   "source": [
    "### How many comments does each of these subreddits receive in a given hour of the day?"
   ]
  },
  {
   "cell_type": "code",
   "execution_count": 110,
   "id": "acb942c0-4fec-46c4-a44c-9da74dba6169",
   "metadata": {
    "tags": []
   },
   "outputs": [
    {
     "data": {
      "application/vnd.jupyter.widget-view+json": {
       "model_id": "dfd905cac2a84bc39e669d0162f22d02",
       "version_major": 2,
       "version_minor": 0
      },
      "text/plain": [
       "Query is running:   0%|          |"
      ]
     },
     "metadata": {},
     "output_type": "display_data"
    },
    {
     "data": {
      "application/vnd.jupyter.widget-view+json": {
       "model_id": "0b98911ab490481cb000607778df8ab3",
       "version_major": 2,
       "version_minor": 0
      },
      "text/plain": [
       "Downloading:   0%|          |"
      ]
     },
     "metadata": {},
     "output_type": "display_data"
    }
   ],
   "source": [
    "%%bigquery Subreddit_Comments_Hourly\n",
    "\n",
    "SELECT subreddit, COUNT(*) as comments, EXTRACT(HOUR FROM TIMESTAMP_SECONDS(created_utc)) as hour_of_day\n",
    "FROM `fh-bigquery.reddit_comments.2014` \n",
    "WHERE subreddit IN ('AskReddit','houston','gaming','askscience','unitedkingdom')\n",
    "GROUP BY subreddit, hour_of_day\n",
    "ORDER BY subreddit, hour_of_day"
   ]
  },
  {
   "cell_type": "code",
   "execution_count": 111,
   "id": "9a7748a7-09a3-4b02-9fb1-fbb52b36abb9",
   "metadata": {},
   "outputs": [
    {
     "data": {
      "text/html": [
       "<div>\n",
       "<style scoped>\n",
       "    .dataframe tbody tr th:only-of-type {\n",
       "        vertical-align: middle;\n",
       "    }\n",
       "\n",
       "    .dataframe tbody tr th {\n",
       "        vertical-align: top;\n",
       "    }\n",
       "\n",
       "    .dataframe thead th {\n",
       "        text-align: right;\n",
       "    }\n",
       "</style>\n",
       "<table border=\"1\" class=\"dataframe\">\n",
       "  <thead>\n",
       "    <tr style=\"text-align: right;\">\n",
       "      <th></th>\n",
       "      <th>subreddit</th>\n",
       "      <th>comments</th>\n",
       "      <th>hour_of_day</th>\n",
       "    </tr>\n",
       "  </thead>\n",
       "  <tbody>\n",
       "    <tr>\n",
       "      <th>0</th>\n",
       "      <td>AskReddit</td>\n",
       "      <td>2315849</td>\n",
       "      <td>0</td>\n",
       "    </tr>\n",
       "    <tr>\n",
       "      <th>1</th>\n",
       "      <td>AskReddit</td>\n",
       "      <td>2356192</td>\n",
       "      <td>1</td>\n",
       "    </tr>\n",
       "    <tr>\n",
       "      <th>2</th>\n",
       "      <td>AskReddit</td>\n",
       "      <td>2433752</td>\n",
       "      <td>2</td>\n",
       "    </tr>\n",
       "    <tr>\n",
       "      <th>3</th>\n",
       "      <td>AskReddit</td>\n",
       "      <td>2456242</td>\n",
       "      <td>3</td>\n",
       "    </tr>\n",
       "    <tr>\n",
       "      <th>4</th>\n",
       "      <td>AskReddit</td>\n",
       "      <td>2340474</td>\n",
       "      <td>4</td>\n",
       "    </tr>\n",
       "    <tr>\n",
       "      <th>...</th>\n",
       "      <td>...</td>\n",
       "      <td>...</td>\n",
       "      <td>...</td>\n",
       "    </tr>\n",
       "    <tr>\n",
       "      <th>115</th>\n",
       "      <td>unitedkingdom</td>\n",
       "      <td>39562</td>\n",
       "      <td>19</td>\n",
       "    </tr>\n",
       "    <tr>\n",
       "      <th>116</th>\n",
       "      <td>unitedkingdom</td>\n",
       "      <td>38888</td>\n",
       "      <td>20</td>\n",
       "    </tr>\n",
       "    <tr>\n",
       "      <th>117</th>\n",
       "      <td>unitedkingdom</td>\n",
       "      <td>38857</td>\n",
       "      <td>21</td>\n",
       "    </tr>\n",
       "    <tr>\n",
       "      <th>118</th>\n",
       "      <td>unitedkingdom</td>\n",
       "      <td>35808</td>\n",
       "      <td>22</td>\n",
       "    </tr>\n",
       "    <tr>\n",
       "      <th>119</th>\n",
       "      <td>unitedkingdom</td>\n",
       "      <td>29372</td>\n",
       "      <td>23</td>\n",
       "    </tr>\n",
       "  </tbody>\n",
       "</table>\n",
       "<p>120 rows × 3 columns</p>\n",
       "</div>"
      ],
      "text/plain": [
       "         subreddit  comments  hour_of_day\n",
       "0        AskReddit   2315849            0\n",
       "1        AskReddit   2356192            1\n",
       "2        AskReddit   2433752            2\n",
       "3        AskReddit   2456242            3\n",
       "4        AskReddit   2340474            4\n",
       "..             ...       ...          ...\n",
       "115  unitedkingdom     39562           19\n",
       "116  unitedkingdom     38888           20\n",
       "117  unitedkingdom     38857           21\n",
       "118  unitedkingdom     35808           22\n",
       "119  unitedkingdom     29372           23\n",
       "\n",
       "[120 rows x 3 columns]"
      ]
     },
     "execution_count": 111,
     "metadata": {},
     "output_type": "execute_result"
    }
   ],
   "source": [
    "Subreddit_Comments_Hourly"
   ]
  },
  {
   "cell_type": "code",
   "execution_count": 112,
   "id": "9fb0e617-795e-49e8-b7a4-759e80f1893d",
   "metadata": {},
   "outputs": [
    {
     "name": "stdout",
     "output_type": "stream",
     "text": [
      "Stored 'Subreddit_Comments_Hourly' (DataFrame)\n"
     ]
    }
   ],
   "source": [
    "%store Subreddit_Comments_Hourly"
   ]
  },
  {
   "cell_type": "code",
   "execution_count": 113,
   "id": "72df4b3d-e45a-46ac-ab8c-0940d1a68af8",
   "metadata": {},
   "outputs": [],
   "source": [
    "%store -r Subreddit_Comments_Hourly"
   ]
  },
  {
   "cell_type": "markdown",
   "id": "57225124-63ba-4d04-baac-7fc547a6e94f",
   "metadata": {},
   "source": [
    "Subreddit_Comments_Hourly is a dataframe containing the nuber of comments recieved at each hour of the day for the given subreddits"
   ]
  },
  {
   "cell_type": "markdown",
   "id": "a4673755-fc97-4d2a-afe8-3103409be237",
   "metadata": {
    "tags": []
   },
   "source": [
    "### When you plot these curves where the x-axis is hours from 0 to 23 andthe y-axis is counts, can you see patterns in these curves? How do these curves compare to each other? Do they have offsets relative to each other?"
   ]
  },
  {
   "cell_type": "code",
   "execution_count": 115,
   "id": "2757c2f5-0fe6-47ea-b29e-72cbf337c55f",
   "metadata": {},
   "outputs": [],
   "source": [
    "Subreddit_Comments_Hourly_AskReddit = Subreddit_Comments_Hourly[Subreddit_Comments_Hourly['subreddit'] == 'AskReddit']\n",
    "Subreddit_Comments_Hourly_houstonDF = Subreddit_Comments_Hourly[Subreddit_Comments_Hourly['subreddit'] == 'houston']\n",
    "Subreddit_Comments_Hourly_gamingDF = Subreddit_Comments_Hourly[Subreddit_Comments_Hourly['subreddit'] == 'gaming']\n",
    "Subreddit_Comments_Hourly_askscienceDF = Subreddit_Comments_Hourly[Subreddit_Comments_Hourly['subreddit'] == 'askscience']\n",
    "Subreddit_Comments_Hourly_unitedkingdomDF = Subreddit_Comments_Hourly[Subreddit_Comments_Hourly['subreddit'] == 'unitedkingdom']"
   ]
  },
  {
   "cell_type": "code",
   "execution_count": 117,
   "id": "36683ac6-0e9f-4318-96bd-5042b671335a",
   "metadata": {},
   "outputs": [
    {
     "data": {
      "text/plain": [
       "Text(0, 0.5, 'Number of Comments')"
      ]
     },
     "execution_count": 117,
     "metadata": {},
     "output_type": "execute_result"
    },
    {
     "data": {
      "image/png": "[encoded data removed]",
      "text/plain": [
       "<Figure size 3500x500 with 5 Axes>"
      ]
     },
     "metadata": {},
     "output_type": "display_data"
    }
   ],
   "source": [
    "plt.figure(figsize=(35, 5))\n",
    "\n",
    "plt.subplot(151)\n",
    "plt.bar(x=Subreddit_Comments_Hourly_AskReddit['hour_of_day'], height=Subreddit_Comments_Hourly_AskReddit['comments'], color = 'blue')\n",
    "plt.title('AskRedditDF')\n",
    "plt.xlabel(\"Hour of the Day\")\n",
    "plt.ylabel(\"Number of Comments\")\n",
    "\n",
    "plt.subplot(152)\n",
    "plt.bar(x=Subreddit_Comments_Hourly_houstonDF['hour_of_day'], height=Subreddit_Comments_Hourly_houstonDF['comments'], color = 'purple')\n",
    "plt.title('houstonDF')\n",
    "plt.xlabel(\"Hour of the Day\")\n",
    "plt.ylabel(\"Number of Comments\")\n",
    "\n",
    "plt.subplot(153)\n",
    "plt.bar(x=Subreddit_Comments_Hourly_gamingDF['hour_of_day'], height=Subreddit_Comments_Hourly_gamingDF['comments'], color = 'red')\n",
    "plt.title('gamingDF')\n",
    "plt.xlabel(\"Hour of the Day\")\n",
    "plt.ylabel(\"Number of Comments\")\n",
    "\n",
    "plt.subplot(154)\n",
    "plt.bar(x=Subreddit_Comments_Hourly_askscienceDF['hour_of_day'], height=Subreddit_Comments_Hourly_askscienceDF['comments'], color = 'orange')\n",
    "plt.title('askscienceDF')\n",
    "plt.xlabel(\"Hour of the Day\")\n",
    "plt.ylabel(\"Number of Comments\")\n",
    "\n",
    "plt.subplot(155)\n",
    "plt.bar(x=Subreddit_Comments_Hourly_unitedkingdomDF['hour_of_day'], height=Subreddit_Comments_Hourly_unitedkingdomDF['comments'], color = 'green')\n",
    "plt.title('unitedkingdomDF')\n",
    "plt.xlabel(\"Hour of the Day\")\n",
    "plt.ylabel(\"Number of Comments\")"
   ]
  },
  {
   "cell_type": "markdown",
   "id": "c0efe38a-5916-4d7f-bf22-51b498519f04",
   "metadata": {
    "jupyter": {
     "source_hidden": true
    },
    "tags": []
   },
   "source": [
    "the plots all follow a similar shape, with a clear minimum time of activity followed by a maximum roughly 6 or 7 hours later, the unitedkingdom subreddit has a significant offset in relation to the other four histograms as well as a more significant difference in the number of comments between the minimum and maximum activity times, which is also present in the houston subreddit histogram"
   ]
  },
  {
   "cell_type": "markdown",
   "id": "b64b2338-470b-4f0e-bd94-4df411ae76e7",
   "metadata": {},
   "source": [
    "###  If you consider the /r/unitedkingdom as being UTC, what can you say about the timezones of the users in the other subreddits?"
   ]
  },
  {
   "cell_type": "markdown",
   "id": "234faa0a-8ecc-4b72-b249-5fd505702bc8",
   "metadata": {},
   "source": [
    "we can see thast the average timezones of the users in the other subreddits is approximateky 5 or 6 hours ahead of the unitedkingdom subreddits average user. As there are clear similarities to the peaks and troughs of the other subreddits to the houston subreddit, which is another location based subreddit with significant drops and peaks in activity allowing us to infer that the majority of the users of that subreddit are from this specific location, we can tell that the majority of the users in the non location based subreddits are also from or around the same timezone as houston in america."
   ]
  },
  {
   "cell_type": "markdown",
   "id": "e02c436b-fd2a-4401-b350-48e781b34566",
   "metadata": {},
   "source": [
    "## Section 3.4 - Part 3 - Language Analytics"
   ]
  },
  {
   "cell_type": "markdown",
   "id": "fbcd4dc1-2050-4f4d-b60d-6c26d426472f",
   "metadata": {},
   "source": [
    "### What are the top 10 most frequent words in each of the five subreddits above? Do you see differences/similarities?"
   ]
  },
  {
   "cell_type": "code",
   "execution_count": 130,
   "id": "423ea7e7-c0fd-4b32-8df2-8e75120f4e87",
   "metadata": {},
   "outputs": [
    {
     "data": {
      "application/vnd.jupyter.widget-view+json": {
       "model_id": "c0786092d17c413eac1f8a49c90adcec",
       "version_major": 2,
       "version_minor": 0
      },
      "text/plain": [
       "Query is running:   0%|          |"
      ]
     },
     "metadata": {},
     "output_type": "display_data"
    },
    {
     "data": {
      "application/vnd.jupyter.widget-view+json": {
       "model_id": "b372df7c323f45afac8824ecc39e80a6",
       "version_major": 2,
       "version_minor": 0
      },
      "text/plain": [
       "Downloading:   0%|          |"
      ]
     },
     "metadata": {},
     "output_type": "display_data"
    }
   ],
   "source": [
    "%%bigquery Subreddit_Word_Frequencies\n",
    "\n",
    "\n",
    "SELECT subreddit, word, count FROM (\n",
    "SELECT subreddit, word, COUNT(*) AS count, ROW_NUMBER() OVER(PARTITION BY subreddit ORDER BY COUNT(*) DESC) AS row \n",
    "FROM `fh-bigquery.reddit_comments.2014`, UNNEST(SPLIT(REGEXP_REPLACE(REGEXP_REPLACE(LOWER(body), '[[:punct:]]', ''), '  ' , ' '), ' ')) AS word \n",
    "WHERE subreddit IN ('AskReddit','houston','gaming','askscience','unitedkingdom')\n",
    "GROUP BY subreddit, word) WHERE row <= 500\n",
    "\n",
    "ORDER BY subreddit, row"
   ]
  },
  {
   "cell_type": "code",
   "execution_count": 131,
   "id": "e94a2fcd-a172-45d0-b076-c5632d5b2faf",
   "metadata": {},
   "outputs": [],
   "source": [
    "Subreddit_Word_Frequencies_AskReddit = Subreddit_Word_Frequencies[Subreddit_Word_Frequencies['subreddit'] == 'AskReddit']\n",
    "Subreddit_Word_Frequencies_AskReddit_top10 = Subreddit_Word_Frequencies_AskReddit.head(10)\n",
    "\n",
    "Subreddit_Word_Frequencies_houstonDF = Subreddit_Word_Frequencies[Subreddit_Word_Frequencies['subreddit'] == 'houston']\n",
    "Subreddit_Word_Frequencies_houstonDF_top10 = Subreddit_Word_Frequencies_houstonDF.head(10)\n",
    "\n",
    "Subreddit_Word_Frequencies_gamingDF = Subreddit_Word_Frequencies[Subreddit_Word_Frequencies['subreddit'] == 'gaming']\n",
    "Subreddit_Word_Frequencies_gamingDF_top10 = Subreddit_Word_Frequencies_gamingDF.head(10)\n",
    "\n",
    "Subreddit_Word_Frequencies_askscienceDF = Subreddit_Word_Frequencies[Subreddit_Word_Frequencies['subreddit'] == 'askscience']\n",
    "Subreddit_Word_Frequencies_askscienceDF_top10 = Subreddit_Word_Frequencies_askscienceDF.head(10)\n",
    "\n",
    "Subreddit_Word_Frequencies_unitedkingdomDF = Subreddit_Word_Frequencies[Subreddit_Word_Frequencies['subreddit'] == 'unitedkingdom']\n",
    "Subreddit_Word_Frequencies_unitedkingdomDF_top10 = Subreddit_Word_Frequencies_unitedkingdomDF.head(10)\n",
    "\n",
    "Subreddit_Word_Frequencies_top10 = pd.concat([Subreddit_Word_Frequencies_AskReddit_top10, Subreddit_Word_Frequencies_houstonDF_top10, Subreddit_Word_Frequencies_gamingDF_top10, Subreddit_Word_Frequencies_askscienceDF_top10, Subreddit_Word_Frequencies_unitedkingdomDF_top10], ignore_index=True)"
   ]
  },
  {
   "cell_type": "code",
   "execution_count": 133,
   "id": "88d95eef-8555-49cf-a640-c8532e290d7c",
   "metadata": {},
   "outputs": [
    {
     "data": {
      "text/html": [
       "<div>\n",
       "<style scoped>\n",
       "    .dataframe tbody tr th:only-of-type {\n",
       "        vertical-align: middle;\n",
       "    }\n",
       "\n",
       "    .dataframe tbody tr th {\n",
       "        vertical-align: top;\n",
       "    }\n",
       "\n",
       "    .dataframe thead th {\n",
       "        text-align: right;\n",
       "    }\n",
       "</style>\n",
       "<table border=\"1\" class=\"dataframe\">\n",
       "  <thead>\n",
       "    <tr style=\"text-align: right;\">\n",
       "      <th></th>\n",
       "      <th>subreddit</th>\n",
       "      <th>word</th>\n",
       "      <th>count</th>\n",
       "    </tr>\n",
       "  </thead>\n",
       "  <tbody>\n",
       "    <tr>\n",
       "      <th>0</th>\n",
       "      <td>AskReddit</td>\n",
       "      <td>the</td>\n",
       "      <td>44387276</td>\n",
       "    </tr>\n",
       "    <tr>\n",
       "      <th>1</th>\n",
       "      <td>AskReddit</td>\n",
       "      <td>i</td>\n",
       "      <td>33582731</td>\n",
       "    </tr>\n",
       "    <tr>\n",
       "      <th>2</th>\n",
       "      <td>AskReddit</td>\n",
       "      <td>a</td>\n",
       "      <td>32174650</td>\n",
       "    </tr>\n",
       "    <tr>\n",
       "      <th>3</th>\n",
       "      <td>AskReddit</td>\n",
       "      <td>to</td>\n",
       "      <td>31572173</td>\n",
       "    </tr>\n",
       "    <tr>\n",
       "      <th>4</th>\n",
       "      <td>AskReddit</td>\n",
       "      <td>and</td>\n",
       "      <td>28960617</td>\n",
       "    </tr>\n",
       "    <tr>\n",
       "      <th>5</th>\n",
       "      <td>AskReddit</td>\n",
       "      <td>of</td>\n",
       "      <td>20712902</td>\n",
       "    </tr>\n",
       "    <tr>\n",
       "      <th>6</th>\n",
       "      <td>AskReddit</td>\n",
       "      <td>it</td>\n",
       "      <td>17423390</td>\n",
       "    </tr>\n",
       "    <tr>\n",
       "      <th>7</th>\n",
       "      <td>AskReddit</td>\n",
       "      <td>you</td>\n",
       "      <td>16781848</td>\n",
       "    </tr>\n",
       "    <tr>\n",
       "      <th>8</th>\n",
       "      <td>AskReddit</td>\n",
       "      <td>that</td>\n",
       "      <td>16510319</td>\n",
       "    </tr>\n",
       "    <tr>\n",
       "      <th>9</th>\n",
       "      <td>AskReddit</td>\n",
       "      <td>in</td>\n",
       "      <td>16280289</td>\n",
       "    </tr>\n",
       "    <tr>\n",
       "      <th>10</th>\n",
       "      <td>houston</td>\n",
       "      <td>the</td>\n",
       "      <td>202098</td>\n",
       "    </tr>\n",
       "    <tr>\n",
       "      <th>11</th>\n",
       "      <td>houston</td>\n",
       "      <td>to</td>\n",
       "      <td>133753</td>\n",
       "    </tr>\n",
       "    <tr>\n",
       "      <th>12</th>\n",
       "      <td>houston</td>\n",
       "      <td>a</td>\n",
       "      <td>128903</td>\n",
       "    </tr>\n",
       "    <tr>\n",
       "      <th>13</th>\n",
       "      <td>houston</td>\n",
       "      <td>i</td>\n",
       "      <td>110211</td>\n",
       "    </tr>\n",
       "    <tr>\n",
       "      <th>14</th>\n",
       "      <td>houston</td>\n",
       "      <td>and</td>\n",
       "      <td>109707</td>\n",
       "    </tr>\n",
       "    <tr>\n",
       "      <th>15</th>\n",
       "      <td>houston</td>\n",
       "      <td>of</td>\n",
       "      <td>84597</td>\n",
       "    </tr>\n",
       "    <tr>\n",
       "      <th>16</th>\n",
       "      <td>houston</td>\n",
       "      <td>in</td>\n",
       "      <td>73718</td>\n",
       "    </tr>\n",
       "    <tr>\n",
       "      <th>17</th>\n",
       "      <td>houston</td>\n",
       "      <td>is</td>\n",
       "      <td>70263</td>\n",
       "    </tr>\n",
       "    <tr>\n",
       "      <th>18</th>\n",
       "      <td>houston</td>\n",
       "      <td>you</td>\n",
       "      <td>70227</td>\n",
       "    </tr>\n",
       "    <tr>\n",
       "      <th>19</th>\n",
       "      <td>houston</td>\n",
       "      <td>it</td>\n",
       "      <td>62099</td>\n",
       "    </tr>\n",
       "    <tr>\n",
       "      <th>20</th>\n",
       "      <td>gaming</td>\n",
       "      <td>the</td>\n",
       "      <td>4742013</td>\n",
       "    </tr>\n",
       "    <tr>\n",
       "      <th>21</th>\n",
       "      <td>gaming</td>\n",
       "      <td>a</td>\n",
       "      <td>2866465</td>\n",
       "    </tr>\n",
       "    <tr>\n",
       "      <th>22</th>\n",
       "      <td>gaming</td>\n",
       "      <td>i</td>\n",
       "      <td>2697773</td>\n",
       "    </tr>\n",
       "    <tr>\n",
       "      <th>23</th>\n",
       "      <td>gaming</td>\n",
       "      <td>to</td>\n",
       "      <td>2688961</td>\n",
       "    </tr>\n",
       "    <tr>\n",
       "      <th>24</th>\n",
       "      <td>gaming</td>\n",
       "      <td>and</td>\n",
       "      <td>2315983</td>\n",
       "    </tr>\n",
       "    <tr>\n",
       "      <th>25</th>\n",
       "      <td>gaming</td>\n",
       "      <td>it</td>\n",
       "      <td>1966248</td>\n",
       "    </tr>\n",
       "    <tr>\n",
       "      <th>26</th>\n",
       "      <td>gaming</td>\n",
       "      <td>of</td>\n",
       "      <td>1929080</td>\n",
       "    </tr>\n",
       "    <tr>\n",
       "      <th>27</th>\n",
       "      <td>gaming</td>\n",
       "      <td>you</td>\n",
       "      <td>1709981</td>\n",
       "    </tr>\n",
       "    <tr>\n",
       "      <th>28</th>\n",
       "      <td>gaming</td>\n",
       "      <td>that</td>\n",
       "      <td>1607025</td>\n",
       "    </tr>\n",
       "    <tr>\n",
       "      <th>29</th>\n",
       "      <td>gaming</td>\n",
       "      <td>is</td>\n",
       "      <td>1567637</td>\n",
       "    </tr>\n",
       "    <tr>\n",
       "      <th>30</th>\n",
       "      <td>askscience</td>\n",
       "      <td>the</td>\n",
       "      <td>1422184</td>\n",
       "    </tr>\n",
       "    <tr>\n",
       "      <th>31</th>\n",
       "      <td>askscience</td>\n",
       "      <td>a</td>\n",
       "      <td>698804</td>\n",
       "    </tr>\n",
       "    <tr>\n",
       "      <th>32</th>\n",
       "      <td>askscience</td>\n",
       "      <td>of</td>\n",
       "      <td>692166</td>\n",
       "    </tr>\n",
       "    <tr>\n",
       "      <th>33</th>\n",
       "      <td>askscience</td>\n",
       "      <td>to</td>\n",
       "      <td>659218</td>\n",
       "    </tr>\n",
       "    <tr>\n",
       "      <th>34</th>\n",
       "      <td>askscience</td>\n",
       "      <td>is</td>\n",
       "      <td>537836</td>\n",
       "    </tr>\n",
       "    <tr>\n",
       "      <th>35</th>\n",
       "      <td>askscience</td>\n",
       "      <td>and</td>\n",
       "      <td>488427</td>\n",
       "    </tr>\n",
       "    <tr>\n",
       "      <th>36</th>\n",
       "      <td>askscience</td>\n",
       "      <td>that</td>\n",
       "      <td>417903</td>\n",
       "    </tr>\n",
       "    <tr>\n",
       "      <th>37</th>\n",
       "      <td>askscience</td>\n",
       "      <td>in</td>\n",
       "      <td>409264</td>\n",
       "    </tr>\n",
       "    <tr>\n",
       "      <th>38</th>\n",
       "      <td>askscience</td>\n",
       "      <td>it</td>\n",
       "      <td>335825</td>\n",
       "    </tr>\n",
       "    <tr>\n",
       "      <th>39</th>\n",
       "      <td>askscience</td>\n",
       "      <td>you</td>\n",
       "      <td>324892</td>\n",
       "    </tr>\n",
       "    <tr>\n",
       "      <th>40</th>\n",
       "      <td>unitedkingdom</td>\n",
       "      <td>the</td>\n",
       "      <td>1381626</td>\n",
       "    </tr>\n",
       "    <tr>\n",
       "      <th>41</th>\n",
       "      <td>unitedkingdom</td>\n",
       "      <td>to</td>\n",
       "      <td>878572</td>\n",
       "    </tr>\n",
       "    <tr>\n",
       "      <th>42</th>\n",
       "      <td>unitedkingdom</td>\n",
       "      <td>a</td>\n",
       "      <td>763748</td>\n",
       "    </tr>\n",
       "    <tr>\n",
       "      <th>43</th>\n",
       "      <td>unitedkingdom</td>\n",
       "      <td>of</td>\n",
       "      <td>646347</td>\n",
       "    </tr>\n",
       "    <tr>\n",
       "      <th>44</th>\n",
       "      <td>unitedkingdom</td>\n",
       "      <td>and</td>\n",
       "      <td>619767</td>\n",
       "    </tr>\n",
       "    <tr>\n",
       "      <th>45</th>\n",
       "      <td>unitedkingdom</td>\n",
       "      <td>is</td>\n",
       "      <td>448532</td>\n",
       "    </tr>\n",
       "    <tr>\n",
       "      <th>46</th>\n",
       "      <td>unitedkingdom</td>\n",
       "      <td>in</td>\n",
       "      <td>441265</td>\n",
       "    </tr>\n",
       "    <tr>\n",
       "      <th>47</th>\n",
       "      <td>unitedkingdom</td>\n",
       "      <td>that</td>\n",
       "      <td>438806</td>\n",
       "    </tr>\n",
       "    <tr>\n",
       "      <th>48</th>\n",
       "      <td>unitedkingdom</td>\n",
       "      <td>i</td>\n",
       "      <td>415279</td>\n",
       "    </tr>\n",
       "    <tr>\n",
       "      <th>49</th>\n",
       "      <td>unitedkingdom</td>\n",
       "      <td>it</td>\n",
       "      <td>388385</td>\n",
       "    </tr>\n",
       "  </tbody>\n",
       "</table>\n",
       "</div>"
      ],
      "text/plain": [
       "        subreddit  word     count\n",
       "0       AskReddit   the  44387276\n",
       "1       AskReddit     i  33582731\n",
       "2       AskReddit     a  32174650\n",
       "3       AskReddit    to  31572173\n",
       "4       AskReddit   and  28960617\n",
       "5       AskReddit    of  20712902\n",
       "6       AskReddit    it  17423390\n",
       "7       AskReddit   you  16781848\n",
       "8       AskReddit  that  16510319\n",
       "9       AskReddit    in  16280289\n",
       "10        houston   the    202098\n",
       "11        houston    to    133753\n",
       "12        houston     a    128903\n",
       "13        houston     i    110211\n",
       "14        houston   and    109707\n",
       "15        houston    of     84597\n",
       "16        houston    in     73718\n",
       "17        houston    is     70263\n",
       "18        houston   you     70227\n",
       "19        houston    it     62099\n",
       "20         gaming   the   4742013\n",
       "21         gaming     a   2866465\n",
       "22         gaming     i   2697773\n",
       "23         gaming    to   2688961\n",
       "24         gaming   and   2315983\n",
       "25         gaming    it   1966248\n",
       "26         gaming    of   1929080\n",
       "27         gaming   you   1709981\n",
       "28         gaming  that   1607025\n",
       "29         gaming    is   1567637\n",
       "30     askscience   the   1422184\n",
       "31     askscience     a    698804\n",
       "32     askscience    of    692166\n",
       "33     askscience    to    659218\n",
       "34     askscience    is    537836\n",
       "35     askscience   and    488427\n",
       "36     askscience  that    417903\n",
       "37     askscience    in    409264\n",
       "38     askscience    it    335825\n",
       "39     askscience   you    324892\n",
       "40  unitedkingdom   the   1381626\n",
       "41  unitedkingdom    to    878572\n",
       "42  unitedkingdom     a    763748\n",
       "43  unitedkingdom    of    646347\n",
       "44  unitedkingdom   and    619767\n",
       "45  unitedkingdom    is    448532\n",
       "46  unitedkingdom    in    441265\n",
       "47  unitedkingdom  that    438806\n",
       "48  unitedkingdom     i    415279\n",
       "49  unitedkingdom    it    388385"
      ]
     },
     "execution_count": 133,
     "metadata": {},
     "output_type": "execute_result"
    }
   ],
   "source": [
    "Subreddit_Word_Frequencies_top10"
   ]
  },
  {
   "cell_type": "markdown",
   "id": "f2e7ff90-f0c2-4b44-8353-a73eb9a2a409",
   "metadata": {},
   "source": [
    "the dataframe Subreddit_Word_Frequencies_top10 contains the top 10 word from each subreddit, for all of the subreddits the top word was \"the\" followed by a mixture of other stop words, changing position, with 'AskReddit' notably being the only subreddit to have 'I' as the second most frequent word, which i believe could be due to the more personal nature of the subreddit with people asking questions."
   ]
  },
  {
   "cell_type": "markdown",
   "id": "dd3b0cba-c0bf-4c1b-bf0f-c438a573be6d",
   "metadata": {},
   "source": [
    "###  What does the word-frequency distribution look like? Plot the relative frequencies of the words as a probability density function. What can you say about the word frequency you observed and the predicted by the Zipf’s Law"
   ]
  },
  {
   "cell_type": "code",
   "execution_count": 136,
   "id": "e8b572a7-252a-4509-beb0-ee3c9f183d22",
   "metadata": {},
   "outputs": [
    {
     "data": {
      "text/plain": [
       "Text(0, 0.5, 'Probability Density')"
      ]
     },
     "execution_count": 136,
     "metadata": {},
     "output_type": "execute_result"
    },
    {
     "data": {
      "image/png": "[encoded data removed]",
      "text/plain": [
       "<Figure size 3500x500 with 5 Axes>"
      ]
     },
     "metadata": {},
     "output_type": "display_data"
    }
   ],
   "source": [
    "plt.figure(figsize=(35, 5))\n",
    "\n",
    "plt.subplot(151)\n",
    "plt.hist(x=Subreddit_Word_Frequencies_AskReddit['count'], color = 'blue', density = True, bins = 100)\n",
    "plt.title('AskRedditDF')\n",
    "plt.yscale(\"log\")\n",
    "plt.xscale(\"log\")\n",
    "plt.xlabel(\"Word Frequencies in Subreddit\")\n",
    "plt.ylabel(\"Probability Density\")\n",
    "\n",
    "plt.subplot(152)\n",
    "plt.hist(x=Subreddit_Word_Frequencies_houstonDF['count'], color = 'purple', density = True, bins = 100)\n",
    "plt.title('houstonDF')\n",
    "plt.yscale(\"log\")\n",
    "plt.xscale(\"log\")\n",
    "plt.xlabel(\"Word Frequencies in Subreddit\")\n",
    "plt.ylabel(\"Probability Density\")\n",
    "\n",
    "plt.subplot(153)\n",
    "plt.hist(x=Subreddit_Word_Frequencies_gamingDF['count'], color = 'red', density = True, bins = 100)\n",
    "plt.title('gamingDF')\n",
    "plt.yscale(\"log\")\n",
    "plt.xscale(\"log\")\n",
    "plt.xlabel(\"Word Frequencies in Subreddit\")\n",
    "plt.ylabel(\"Probability Density\")\n",
    "\n",
    "plt.subplot(154)\n",
    "plt.hist(x=Subreddit_Word_Frequencies_askscienceDF['count'], color = 'orange', density = True, bins = 100)\n",
    "plt.title('askscienceDF')\n",
    "plt.yscale(\"log\")\n",
    "plt.xscale(\"log\")\n",
    "plt.xlabel(\"Word Frequencies in Subreddit\")\n",
    "plt.ylabel(\"Probability Density\")\n",
    "\n",
    "plt.subplot(155)\n",
    "plt.hist(x=Subreddit_Word_Frequencies_unitedkingdomDF['count'], color = 'green', density = True, bins = 100)\n",
    "plt.title('unitedkingdomDF')\n",
    "plt.yscale(\"log\")\n",
    "plt.xscale(\"log\")\n",
    "plt.xlabel(\"Word Frequencies in Subreddit\")\n",
    "plt.ylabel(\"Probability Density\")"
   ]
  },
  {
   "cell_type": "markdown",
   "id": "8fc57cfc-be3b-4244-86e1-be0109493ba5",
   "metadata": {},
   "source": [
    "Zipfs Law states that the value of the nth entry is inversly proportional to n, which holds true for this example as the frequency of the words in the subreddits are inversly proportional to their rank"
   ]
  }
 ],
 "metadata": {
  "kernelspec": {
   "display_name": "Python (Local)",
   "language": "python",
   "name": "local-base"
  },
  "language_info": {
   "codemirror_mode": {
    "name": "ipython",
    "version": 3
   },
   "file_extension": ".py",
   "mimetype": "text/x-python",
   "name": "python",
   "nbconvert_exporter": "python",
   "pygments_lexer": "ipython3",
   "version": "3.10.12"
  }
 },
 "nbformat": 4,
 "nbformat_minor": 5
}
